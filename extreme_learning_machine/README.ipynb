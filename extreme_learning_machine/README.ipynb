{
 "cells": [
  {
   "cell_type": "code",
   "execution_count": 6,
   "metadata": {
    "collapsed": true
   },
   "outputs": [
    {
     "data": {
      "text/plain": "'\\nHello there, here is an interactive README to tell you the mathematical theory in ELM(Extreme Learning machine), and also how to use it.\\n\\nELM[1] was proposed by Guangbin Huang.  The oringinal paper is in Neurocomputing\\n\\nRef.\\n[1] Huang, G et al,.  Extreme learning machine: theory and applications. Neurocomputing. 2006. 70(1/3), 489-501.\\n'"
     },
     "execution_count": 6,
     "metadata": {},
     "output_type": "execute_result"
    }
   ],
   "source": [
    "\"\"\"\n",
    "Hello there, here is an interactive README to tell you the mathematical theory in ELM(Extreme Learning machine), and also how to use it.\n",
    "\n",
    "ELM[1] was proposed by Guangbin Huang.  The oringinal paper is in Neurocomputing\n",
    "\n",
    "ELM was proposed for single-hidden layer feedforward neural networks (SLFNs) which randomly chooses hidden nodes and analytically determines the output weights of SLFNs. In theory, this algorithm tends to provide good generalization performance at extremely fast learning speed.\n",
    "\n",
    "Ref.\n",
    "[1] Huang, G et al,.  Extreme learning machine: theory and applications. Neurocomputing. 2006. 70(1/3), 489-501.\n",
    "\"\"\""
   ]
  },
  {
   "cell_type": "markdown",
   "source": [
    "ELM include two layers, named hidden-layer and output-layer, i prefer to call them random-features-mapping-layer and learnable-layer, since new names indicating their functions.\n",
    "\n",
    "First, let we the download the dataset from kaggle. ELM deal with data like a Full-connected layer of Neural Networks, for example:\n",
    "   input size = [batch, in_features], output size=[batch, out_features]"
   ],
   "metadata": {
    "collapsed": false
   }
  },
  {
   "cell_type": "code",
   "execution_count": null,
   "outputs": [],
   "source": [],
   "metadata": {
    "collapsed": false
   }
  },
  {
   "cell_type": "markdown",
   "source": [],
   "metadata": {
    "collapsed": false
   }
  }
 ],
 "metadata": {
  "kernelspec": {
   "display_name": "Python 3",
   "language": "python",
   "name": "python3"
  },
  "language_info": {
   "codemirror_mode": {
    "name": "ipython",
    "version": 2
   },
   "file_extension": ".py",
   "mimetype": "text/x-python",
   "name": "python",
   "nbconvert_exporter": "python",
   "pygments_lexer": "ipython2",
   "version": "2.7.6"
  }
 },
 "nbformat": 4,
 "nbformat_minor": 0
}
